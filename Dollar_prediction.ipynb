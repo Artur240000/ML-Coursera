{
 "cells": [
  {
   "cell_type": "code",
   "execution_count": 1,
   "metadata": {},
   "outputs": [],
   "source": [
    "import pandas as pd\n",
    "import sklearn\n",
    "import numpy as np"
   ]
  },
  {
   "cell_type": "code",
   "execution_count": 2,
   "metadata": {},
   "outputs": [],
   "source": [
    "df=pd.read_excel(\"money3.xlsx\")"
   ]
  },
  {
   "cell_type": "code",
   "execution_count": 3,
   "metadata": {},
   "outputs": [],
   "source": [
    "df=df.curs"
   ]
  },
  {
   "cell_type": "code",
   "execution_count": 4,
   "metadata": {},
   "outputs": [],
   "source": [
    "df=pd.DataFrame(df)"
   ]
  },
  {
   "cell_type": "code",
   "execution_count": 5,
   "metadata": {},
   "outputs": [],
   "source": [
    "mon=df.values"
   ]
  },
  {
   "cell_type": "code",
   "execution_count": 6,
   "metadata": {},
   "outputs": [],
   "source": [
    "X_train=[]\n",
    "y_train=[]\n",
    "for i in range(len(mon)-3):\n",
    "    if i % 7 !=0:\n",
    "        X_train.append(mon[i])\n",
    "    else:\n",
    "        y_train.append(mon[i])   "
   ]
  },
  {
   "cell_type": "code",
   "execution_count": 7,
   "metadata": {},
   "outputs": [
    {
     "data": {
      "text/plain": [
       "672"
      ]
     },
     "execution_count": 7,
     "metadata": {},
     "output_type": "execute_result"
    }
   ],
   "source": [
    "len(X_train)"
   ]
  },
  {
   "cell_type": "code",
   "execution_count": 8,
   "metadata": {},
   "outputs": [],
   "source": [
    "X_train = [X_train[x:x+6] for x in range(0, len(X_train), 6)]\n",
    "X_train_real=X_train"
   ]
  },
  {
   "cell_type": "code",
   "execution_count": 9,
   "metadata": {},
   "outputs": [
    {
     "data": {
      "text/plain": [
       "112"
      ]
     },
     "execution_count": 9,
     "metadata": {},
     "output_type": "execute_result"
    }
   ],
   "source": [
    "len(X_train_real)"
   ]
  },
  {
   "cell_type": "code",
   "execution_count": 10,
   "metadata": {},
   "outputs": [],
   "source": [
    "train_data=X_train_real[:-30]\n",
    "train_label=y_train[:-30]"
   ]
  },
  {
   "cell_type": "code",
   "execution_count": 11,
   "metadata": {},
   "outputs": [],
   "source": [
    "test_data=X_train_real[-30:]\n",
    "test_label=y_train[-30:]"
   ]
  },
  {
   "cell_type": "code",
   "execution_count": 31,
   "metadata": {},
   "outputs": [],
   "source": [
    "from sklearn.ensemble import RandomForestRegressor\n",
    "from sklearn.metrics import mean_squared_error, mean_absolute_error\n",
    "from sklearn.model_selection import GridSearchCV"
   ]
  },
  {
   "cell_type": "code",
   "execution_count": 16,
   "metadata": {},
   "outputs": [],
   "source": [
    "nice=pd.DataFrame(train_data)"
   ]
  },
  {
   "cell_type": "code",
   "execution_count": 64,
   "metadata": {},
   "outputs": [
    {
     "name": "stderr",
     "output_type": "stream",
     "text": [
      "/opt/anaconda3/lib/python3.7/site-packages/ipykernel_launcher.py:2: DataConversionWarning: A column-vector y was passed when a 1d array was expected. Please change the shape of y to (n_samples,), for example using ravel().\n",
      "  \n"
     ]
    },
    {
     "data": {
      "text/plain": [
       "RandomForestRegressor(bootstrap=True, criterion='mae', max_depth=None,\n",
       "                      max_features=4, max_leaf_nodes=None,\n",
       "                      min_impurity_decrease=0.0, min_impurity_split=None,\n",
       "                      min_samples_leaf=1, min_samples_split=2,\n",
       "                      min_weight_fraction_leaf=0.0, n_estimators=1500,\n",
       "                      n_jobs=None, oob_score=False, random_state=0, verbose=0,\n",
       "                      warm_start=False)"
      ]
     },
     "execution_count": 64,
     "metadata": {},
     "output_type": "execute_result"
    }
   ],
   "source": [
    "reg=RandomForestRegressor(n_estimators=1500, random_state=0, criterion='mae', max_features=4)\n",
    "reg.fit(nice, train_label)"
   ]
  },
  {
   "cell_type": "code",
   "execution_count": 65,
   "metadata": {},
   "outputs": [
    {
     "name": "stdout",
     "output_type": "stream",
     "text": [
      "2.286908430000301\n",
      "[0.35341506 0.26133034 0.10122402 0.05603337 0.05981114 0.16818607]\n"
     ]
    }
   ],
   "source": [
    "proba=reg.predict(pd.DataFrame(test_data))\n",
    "print(mean_absolute_error(test_label, proba))\n",
    "print(reg.feature_importances_)"
   ]
  },
  {
   "cell_type": "code",
   "execution_count": 66,
   "metadata": {},
   "outputs": [
    {
     "data": {
      "text/plain": [
       "array([63.9889088 , 64.931729  , 64.4705656 , 63.9313624 , 63.40908267,\n",
       "       64.32526087, 63.8207844 , 64.25827847, 62.7634934 , 62.60707613,\n",
       "       61.866222  , 62.28991873, 62.53295913, 63.70390427, 63.78488007,\n",
       "       66.6870111 , 68.28651887, 68.28651887, 68.28651887, 68.28651887,\n",
       "       68.28651887, 68.28651887, 68.28651887, 68.10677227, 68.28300387,\n",
       "       68.25850233, 68.28651887, 68.28651887, 68.28651887, 68.28651887])"
      ]
     },
     "execution_count": 66,
     "metadata": {},
     "output_type": "execute_result"
    }
   ],
   "source": [
    "proba"
   ]
  },
  {
   "cell_type": "code",
   "execution_count": 38,
   "metadata": {},
   "outputs": [
    {
     "data": {
      "text/plain": [
       "[array([63.9453]),\n",
       " array([65.4399]),\n",
       " array([64.2237]),\n",
       " array([63.6336]),\n",
       " array([63.7748]),\n",
       " array([63.853]),\n",
       " array([63.843]),\n",
       " array([64.4097]),\n",
       " array([63.5653]),\n",
       " array([62.4071]),\n",
       " array([61.9057]),\n",
       " array([61.5333]),\n",
       " array([62.8299]),\n",
       " array([62.7977]),\n",
       " array([63.3085]),\n",
       " array([65.6097]),\n",
       " array([72.0208]),\n",
       " array([80.157]),\n",
       " array([76.4074]),\n",
       " array([73.7145]),\n",
       " array([74.7163]),\n",
       " array([73.8725]),\n",
       " array([72.3381]),\n",
       " array([70.752]),\n",
       " array([68.6745]),\n",
       " array([69.5725]),\n",
       " array([70.4413]),\n",
       " array([70.88]),\n",
       " array([71.9628]),\n",
       " array([72.2348])]"
      ]
     },
     "execution_count": 38,
     "metadata": {},
     "output_type": "execute_result"
    }
   ],
   "source": [
    "test_label"
   ]
  }
 ],
 "metadata": {
  "kernelspec": {
   "display_name": "Python 3",
   "language": "python",
   "name": "python3"
  },
  "language_info": {
   "codemirror_mode": {
    "name": "ipython",
    "version": 3
   },
   "file_extension": ".py",
   "mimetype": "text/x-python",
   "name": "python",
   "nbconvert_exporter": "python",
   "pygments_lexer": "ipython3",
   "version": "3.7.4"
  }
 },
 "nbformat": 4,
 "nbformat_minor": 4
}
